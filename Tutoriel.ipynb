{
 "cells": [
  {
   "cell_type": "markdown",
   "metadata": {},
   "source": [
    "Dans cette compétition il s'agit de prédire une série temporelle. Beaucoup d'approches économétriques sont admises telles que les modèles ARIMA, le lissage exponentiel, etc. Il est aussi possible d'utiliser des réseaux de neurones à convolution et des réseaux récurrents et évidemment tout modèle de régression ML.\n",
    "\n",
    "Mais avant tout il est important de comprendre les données (cette tâche est laissée aux compétiteurs). Ici nous allons montrer comment apprendre un simple modèle en vue de faire une soumission. Notre hypothèse sous-jacente est que la consommation d'électricité dépend d'effets saisonniers capturés par le mois, d'éffets journaliers capturés par le jour et potentiellement une tendance capturée par l'année. Donc nos modèles prendront en entrée ces données. Nous les générons à l'aide de la fonction `ajout_details_date`."
   ]
  },
  {
   "cell_type": "code",
   "execution_count": 1,
   "metadata": {},
   "outputs": [],
   "source": [
    "import pandas as pd\n",
    "import numpy as np"
   ]
  },
  {
   "cell_type": "code",
   "execution_count": 2,
   "metadata": {},
   "outputs": [],
   "source": [
    "# Lecture du fichier d'entraînement\n",
    "train = pd.read_csv(\"./data/train.csv\")\n",
    "\n",
    "# Lecture du fichier de test\n",
    "test = pd.read_csv(\"./data/test.csv\")"
   ]
  },
  {
   "cell_type": "code",
   "execution_count": 3,
   "metadata": {},
   "outputs": [],
   "source": [
    "def ajout_details_date(df):\n",
    "    df[\"Date\"] = pd.to_datetime(df[\"Date\"]) # conversion en date\n",
    "    df[\"Mois\"]= df.Date.dt.month # mois de l'année\n",
    "    df[\"Jour_Semaine\"] = df.Date.dt.dayofweek #jour de la semaine\n",
    "    df[\"Jour_Mois\"] = df.Date.dt.day # jour du mois\n",
    "    df[\"Annee\"] = df.Date.dt.year # année\n",
    "    df[\"heure\"] = df[\"Heure\"].str[:2].astype(int)\n",
    "    return df\n",
    "\n",
    "train = ajout_details_date(train)\n",
    "test = ajout_details_date(test)"
   ]
  },
  {
   "cell_type": "code",
   "execution_count": null,
   "metadata": {},
   "outputs": [],
   "source": []
  },
  {
   "cell_type": "code",
   "execution_count": 4,
   "metadata": {},
   "outputs": [
    {
     "data": {
      "text/html": [
       "<div>\n",
       "<style scoped>\n",
       "    .dataframe tbody tr th:only-of-type {\n",
       "        vertical-align: middle;\n",
       "    }\n",
       "\n",
       "    .dataframe tbody tr th {\n",
       "        vertical-align: top;\n",
       "    }\n",
       "\n",
       "    .dataframe thead th {\n",
       "        text-align: right;\n",
       "    }\n",
       "</style>\n",
       "<table border=\"1\" class=\"dataframe\">\n",
       "  <thead>\n",
       "    <tr style=\"text-align: right;\">\n",
       "      <th></th>\n",
       "      <th>Date</th>\n",
       "      <th>Heure</th>\n",
       "      <th>Consommation</th>\n",
       "      <th>Mois</th>\n",
       "      <th>Jour_Semaine</th>\n",
       "      <th>Jour_Mois</th>\n",
       "      <th>Annee</th>\n",
       "      <th>heure</th>\n",
       "    </tr>\n",
       "  </thead>\n",
       "  <tbody>\n",
       "    <tr>\n",
       "      <th>0</th>\n",
       "      <td>2015-12-31</td>\n",
       "      <td>00:00</td>\n",
       "      <td>29590.88</td>\n",
       "      <td>12</td>\n",
       "      <td>3</td>\n",
       "      <td>31</td>\n",
       "      <td>2015</td>\n",
       "      <td>0</td>\n",
       "    </tr>\n",
       "    <tr>\n",
       "      <th>1</th>\n",
       "      <td>2015-12-31</td>\n",
       "      <td>01:00</td>\n",
       "      <td>27785.43</td>\n",
       "      <td>12</td>\n",
       "      <td>3</td>\n",
       "      <td>31</td>\n",
       "      <td>2015</td>\n",
       "      <td>1</td>\n",
       "    </tr>\n",
       "    <tr>\n",
       "      <th>2</th>\n",
       "      <td>2015-12-31</td>\n",
       "      <td>02:00</td>\n",
       "      <td>26516.53</td>\n",
       "      <td>12</td>\n",
       "      <td>3</td>\n",
       "      <td>31</td>\n",
       "      <td>2015</td>\n",
       "      <td>2</td>\n",
       "    </tr>\n",
       "    <tr>\n",
       "      <th>3</th>\n",
       "      <td>2015-12-31</td>\n",
       "      <td>03:00</td>\n",
       "      <td>26091.62</td>\n",
       "      <td>12</td>\n",
       "      <td>3</td>\n",
       "      <td>31</td>\n",
       "      <td>2015</td>\n",
       "      <td>3</td>\n",
       "    </tr>\n",
       "    <tr>\n",
       "      <th>4</th>\n",
       "      <td>2015-12-31</td>\n",
       "      <td>04:00</td>\n",
       "      <td>25871.54</td>\n",
       "      <td>12</td>\n",
       "      <td>3</td>\n",
       "      <td>31</td>\n",
       "      <td>2015</td>\n",
       "      <td>4</td>\n",
       "    </tr>\n",
       "  </tbody>\n",
       "</table>\n",
       "</div>"
      ],
      "text/plain": [
       "        Date  Heure  Consommation  Mois  Jour_Semaine  Jour_Mois  Annee  heure\n",
       "0 2015-12-31  00:00      29590.88    12             3         31   2015      0\n",
       "1 2015-12-31  01:00      27785.43    12             3         31   2015      1\n",
       "2 2015-12-31  02:00      26516.53    12             3         31   2015      2\n",
       "3 2015-12-31  03:00      26091.62    12             3         31   2015      3\n",
       "4 2015-12-31  04:00      25871.54    12             3         31   2015      4"
      ]
     },
     "execution_count": 4,
     "metadata": {},
     "output_type": "execute_result"
    }
   ],
   "source": [
    "train.head()"
   ]
  },
  {
   "cell_type": "markdown",
   "metadata": {},
   "source": [
    "## A- REGRESSION LINEAIRE REGULARISEE (RIDGE ou LASSO)"
   ]
  },
  {
   "cell_type": "markdown",
   "metadata": {},
   "source": [
    "Ici on va se servir des variables catégorielles Mois, Jour_Semaine, Jour_Mois, Annee et Heure. Il nous faut donc les transformer en variables dummy"
   ]
  },
  {
   "cell_type": "code",
   "execution_count": 5,
   "metadata": {},
   "outputs": [],
   "source": [
    "from sklearn.model_selection import StratifiedKFold\n",
    "from sklearn.metrics import mean_absolute_error\n",
    "from sklearn.linear_model import LinearRegression, Ridge\n",
    "import matplotlib.pyplot as plt"
   ]
  },
  {
   "cell_type": "code",
   "execution_count": 6,
   "metadata": {},
   "outputs": [],
   "source": [
    "# CALCUL DE FEATURES\n",
    "df_tr = train.copy()\n",
    "df_te = test.copy()\n",
    "# identifier les données\n",
    "df_tr[\"train\"] = 1\n",
    "df_te[\"train\"] = 0\n",
    "df = df_tr.append(df_te).reset_index(drop=True)\n",
    "\n",
    "#\"\"\"\n",
    "CATVARS = [\"Mois\", \"Jour_Semaine\", \"Annee\",\"heure\"]\n",
    "FE = [\"Jour_Mois\"]\n",
    "for col in CATVARS:\n",
    "    temp = pd.get_dummies(df[col], prefix=col)\n",
    "    cols = list(temp.columns)\n",
    "    FE += cols\n",
    "    df = df.join(temp)\n",
    "#\"\"\"\n",
    "df_te = df.loc[df.train==0].copy().reset_index(drop=True)\n",
    "df_tr = df.loc[df.train==1].copy().reset_index(drop=True)\n",
    "del df"
   ]
  },
  {
   "cell_type": "code",
   "execution_count": 7,
   "metadata": {},
   "outputs": [
    {
     "data": {
      "text/plain": [
       "((36528, 58), (2928, 58))"
      ]
     },
     "execution_count": 7,
     "metadata": {},
     "output_type": "execute_result"
    }
   ],
   "source": [
    "df_tr.shape, df_te.shape"
   ]
  },
  {
   "cell_type": "code",
   "execution_count": 8,
   "metadata": {},
   "outputs": [],
   "source": [
    "X = df_tr[FE].values\n",
    "Xe = df_te[FE].values\n",
    "y = df_tr[\"Consommation\"].values"
   ]
  },
  {
   "cell_type": "code",
   "execution_count": 9,
   "metadata": {},
   "outputs": [],
   "source": [
    "df_tr[\"Cluster\"] = (df_tr[\"Mois\"].astype(str) + \"_\" + df_tr[\"Jour_Semaine\"].astype(str) \n",
    "                    +  \"_\" + df_tr[\"Heure\"] )"
   ]
  },
  {
   "cell_type": "code",
   "execution_count": 10,
   "metadata": {},
   "outputs": [],
   "source": [
    "NFOLDS = 5\n",
    "skf = StratifiedKFold(n_splits=NFOLDS)\n",
    "folds = list(skf.split(X, df_tr[\"Cluster\"].values))"
   ]
  },
  {
   "cell_type": "code",
   "execution_count": 11,
   "metadata": {},
   "outputs": [
    {
     "name": "stdout",
     "output_type": "stream",
     "text": [
      "==================================================\n",
      "FOLD 1 MAE: 1960.763088481883\n",
      "==================================================\n",
      "FOLD 2 MAE: 1644.1523953602655\n",
      "==================================================\n",
      "FOLD 3 MAE: 1832.3914534566907\n",
      "==================================================\n",
      "FOLD 4 MAE: 1918.9646010209613\n",
      "==================================================\n",
      "FOLD 5 MAE: 1900.451445568609\n",
      "==================================================\n",
      "GLOBAL MAE: 1851.3414012330852\n"
     ]
    }
   ],
   "source": [
    "oof = np.zeros(y.shape)\n",
    "pred = np.zeros((Xe.shape[0], ))\n",
    "\n",
    "print(\"=\"*50)\n",
    "for idx in range(NFOLDS):\n",
    "    tr_idx, val_idx = folds[idx]\n",
    "    #reg = LinearRegression()\n",
    "    reg = Ridge()\n",
    "    reg.fit(X[tr_idx], y[tr_idx])\n",
    "    oof[val_idx] = reg.predict(X[val_idx])\n",
    "    pred += reg.predict(Xe) / NFOLDS\n",
    "    print(f\"FOLD {idx +1} MAE:\", mean_absolute_error(y[val_idx], oof[val_idx]))\n",
    "    print(\"=\"*50)\n",
    "#===============\n",
    "print(\"GLOBAL MAE:\", mean_absolute_error(y, oof))"
   ]
  },
  {
   "cell_type": "code",
   "execution_count": 12,
   "metadata": {},
   "outputs": [
    {
     "data": {
      "image/png": "[encoded data removed]",
      "text/plain": [
       "<Figure size 432x288 with 1 Axes>"
      ]
     },
     "metadata": {
      "needs_background": "light"
     },
     "output_type": "display_data"
    }
   ],
   "source": [
    "plt.plot(y[-365*2:], label=\"vraie conso.\")\n",
    "plt.plot(oof[-365*2:], label=\"pred conso.\")\n",
    "plt.legend(loc=\"best\")\n",
    "plt.show()"
   ]
  },
  {
   "cell_type": "markdown",
   "metadata": {},
   "source": [
    "On voit qu'on arrive à repliquer la tendance, mais par définion la regression cible la moyenne. Par ailleurs avec la métrique MAE on cible la médiane. **Donc il serait intéressant de faire une regression quantile**."
   ]
  },
  {
   "cell_type": "code",
   "execution_count": 13,
   "metadata": {},
   "outputs": [],
   "source": [
    "df_te[\"Consommation\"] = pred\n",
    "df_te[[\"Date\",\"Heure\",\"Consommation\"]].to_csv(\"./subs/ols.csv\", index=False)"
   ]
  },
  {
   "cell_type": "code",
   "execution_count": null,
   "metadata": {},
   "outputs": [],
   "source": []
  },
  {
   "cell_type": "markdown",
   "metadata": {},
   "source": [
    "## B- RESEAU DE NEURONES"
   ]
  },
  {
   "cell_type": "code",
   "execution_count": null,
   "metadata": {},
   "outputs": [],
   "source": []
  },
  {
   "cell_type": "code",
   "execution_count": null,
   "metadata": {},
   "outputs": [],
   "source": []
  },
  {
   "cell_type": "markdown",
   "metadata": {},
   "source": [
    "## C- BOOSTING MODELS (LightGBM)"
   ]
  },
  {
   "cell_type": "code",
   "execution_count": null,
   "metadata": {},
   "outputs": [],
   "source": []
  },
  {
   "cell_type": "code",
   "execution_count": null,
   "metadata": {},
   "outputs": [],
   "source": []
  },
  {
   "cell_type": "code",
   "execution_count": null,
   "metadata": {},
   "outputs": [],
   "source": []
  }
 ],
 "metadata": {
  "kernelspec": {
   "display_name": "Python 3",
   "language": "python",
   "name": "python3"
  },
  "language_info": {
   "codemirror_mode": {
    "name": "ipython",
    "version": 3
   },
   "file_extension": ".py",
   "mimetype": "text/x-python",
   "name": "python",
   "nbconvert_exporter": "python",
   "pygments_lexer": "ipython3",
   "version": "3.7.6"
  }
 },
 "nbformat": 4,
 "nbformat_minor": 4
}
